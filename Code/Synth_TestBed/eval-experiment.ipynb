{
 "cells": [
  {
   "cell_type": "markdown",
   "metadata": {},
   "source": [
    "### Class that runs a semi-synthetic experiment"
   ]
  },
  {
   "cell_type": "code",
   "execution_count": 1,
   "metadata": {},
   "outputs": [],
   "source": [
    "import Datasets\n",
    "import numpy as np"
   ]
  },
  {
   "cell_type": "code",
   "execution_count": 2,
   "metadata": {},
   "outputs": [],
   "source": [
    "import Policy"
   ]
  },
  {
   "cell_type": "code",
   "execution_count": 3,
   "metadata": {},
   "outputs": [],
   "source": [
    "anchorTitleURLFeatures = [1,2,3,6,7,8,11,12,13,16,17,18,21,22,23,26,27,28,31,32,33,36,37,38,43,44,46]\n",
    "bodyDocFeatures = [0,4,5,9,10,14,15,19,20,24,25,29,30,34,35,39,40,41,42,45,46]\n"
   ]
  },
  {
   "cell_type": "code",
   "execution_count": 4,
   "metadata": {},
   "outputs": [
    {
     "data": {
      "text/plain": [
       "48"
      ]
     },
     "execution_count": 4,
     "metadata": {},
     "output_type": "execute_result"
    }
   ],
   "source": [
    "len(bodyDocFeatures) + len(anchorTitleURLFeatures)"
   ]
  },
  {
   "cell_type": "code",
   "execution_count": 5,
   "metadata": {},
   "outputs": [
    {
     "name": "stdout",
     "output_type": "stream",
     "text": [
      "Datasets:loadNpz [INFO] Loaded ../../Data/MQ2008.npz  NumQueries, [Min,Max]NumDocs, totalDocs, MaxNumFeatures:  784 5 121 121 47\n"
     ]
    }
   ],
   "source": [
    "data = Datasets.Datasets()\n",
    "data.loadNpz('../../Data/MQ2008.npz', 'MQ2008')"
   ]
  },
  {
   "cell_type": "code",
   "execution_count": 6,
   "metadata": {},
   "outputs": [],
   "source": [
    "numQueries, numDocs, numFeatures = np.shape(data.features)"
   ]
  },
  {
   "cell_type": "code",
   "execution_count": 7,
   "metadata": {},
   "outputs": [
    {
     "name": "stdout",
     "output_type": "stream",
     "text": [
      "DeterministicPolicy:init [INFO] Dataset: MQ2008\n"
     ]
    }
   ],
   "source": [
    "filtering_ranker = \"lasso\"\n",
    "filterer = Policy.DeterministicPolicy(data, filtering_ranker)"
   ]
  },
  {
   "cell_type": "code",
   "execution_count": 8,
   "metadata": {},
   "outputs": [
    {
     "data": {
      "text/plain": [
       "\u001b[0;31mSignature:\u001b[0m \u001b[0mfilterer\u001b[0m\u001b[0;34m.\u001b[0m\u001b[0mtrain\u001b[0m\u001b[0;34m(\u001b[0m\u001b[0mdataset\u001b[0m\u001b[0;34m,\u001b[0m \u001b[0mfeature_list\u001b[0m\u001b[0;34m,\u001b[0m \u001b[0mexponential_gains\u001b[0m\u001b[0;34m)\u001b[0m\u001b[0;34m\u001b[0m\u001b[0;34m\u001b[0m\u001b[0m\n",
       "\u001b[0;31mDocstring:\u001b[0m <no docstring>\n",
       "\u001b[0;31mFile:\u001b[0m      ~/Documents/misc/SIGIR-2016-tutorial/Code_Data/Code/Synth_TestBed/Policy.py\n",
       "\u001b[0;31mType:\u001b[0m      method\n"
      ]
     },
     "metadata": {},
     "output_type": "display_data"
    }
   ],
   "source": [
    "?filterer.train"
   ]
  },
  {
   "cell_type": "code",
   "execution_count": 10,
   "metadata": {},
   "outputs": [
    {
     "name": "stdout",
     "output_type": "stream",
     "text": [
      "DeterministicPolicy:train [INFO] lasso CVAlpha: 0.008000 Exponentiated Gains? False\n",
      "DeterministicPolicy:train [INFO] Created lasso predictor using dataset MQ2008. Features: [1, 2, 3, 6, 7, 8, 11, 12, 13, 16, 17, 18, 21, 22, 23, 26, 27, 28, 31, 32, 33, 36, 37, 38, 43, 44, 46]\n",
      "CPU times: user 1.07 s, sys: 31 ms, total: 1.1 s\n",
      "Wall time: 330 ms\n"
     ]
    }
   ],
   "source": [
    "%%time\n",
    "filterer.train(data, anchorTitleURLFeatures, False)"
   ]
  },
  {
   "cell_type": "code",
   "execution_count": 11,
   "metadata": {},
   "outputs": [
    {
     "name": "stdout",
     "output_type": "stream",
     "text": [
      "DeterministicPolicy:createFilteredDataset [INFO] MQ2008_lasso_anchor_7 MaxNumDocs 7\n"
     ]
    }
   ],
   "source": [
    "max_docs = 7\n",
    "data = filterer.createFilteredDataset(max_docs)"
   ]
  },
  {
   "cell_type": "code",
   "execution_count": 12,
   "metadata": {},
   "outputs": [
    {
     "data": {
      "text/plain": [
       "(784, 7, 47)"
      ]
     },
     "execution_count": 12,
     "metadata": {},
     "output_type": "execute_result"
    }
   ],
   "source": [
    "data.features.shape"
   ]
  },
  {
   "cell_type": "code",
   "execution_count": 13,
   "metadata": {},
   "outputs": [
    {
     "data": {
      "text/plain": [
       "(784, 121, 47)"
      ]
     },
     "execution_count": 13,
     "metadata": {},
     "output_type": "execute_result"
    }
   ],
   "source": [
    "filterer.dataset.features.shape"
   ]
  },
  {
   "cell_type": "code",
   "execution_count": 14,
   "metadata": {},
   "outputs": [],
   "source": [
    "# note sure why we do this:\n",
    "filterer.dataset = data"
   ]
  },
  {
   "cell_type": "code",
   "execution_count": 15,
   "metadata": {},
   "outputs": [],
   "source": [
    "from EvalExperiment import Experiment"
   ]
  },
  {
   "cell_type": "code",
   "execution_count": 16,
   "metadata": {},
   "outputs": [
    {
     "name": "stdout",
     "output_type": "stream",
     "text": [
      "Experiment:init [INFO] Dataset: MQ2008_lasso_anchor_7 RankingSize: 3\n"
     ]
    }
   ],
   "source": [
    "length_ranking = 3 #ranking size\n",
    "expt = Experiment(data, length_ranking)"
   ]
  },
  {
   "cell_type": "code",
   "execution_count": 17,
   "metadata": {},
   "outputs": [
    {
     "name": "stdout",
     "output_type": "stream",
     "text": [
      "DeterministicPolicy:init [INFO] Dataset: MQ2008_lasso_anchor_7\n",
      "DeterministicPolicy:train [INFO] lasso CVAlpha: 0.008000 Exponentiated Gains? False\n",
      "DeterministicPolicy:train [INFO] Created lasso predictor using dataset MQ2008_lasso_anchor_7. Features: [0, 4, 5, 9, 10, 14, 15, 19, 20, 24, 25, 29, 30, 34, 35, 39, 40, 41, 42, 45, 46]\n"
     ]
    }
   ],
   "source": [
    "evaluation_ranker = \"lasso\"\n",
    "newPolicy = Policy.DeterministicPolicy(data, evaluation_ranker)\n",
    "newPolicy.train(data, bodyDocFeatures, False)\n"
   ]
  },
  {
   "cell_type": "code",
   "execution_count": 18,
   "metadata": {},
   "outputs": [
    {
     "name": "stdout",
     "output_type": "stream",
     "text": [
      "DeterministicPolicy:predictAll [INFO] Generated all predictions for MQ2008_lasso_anchor_7 using MQ2008_lasso_anchor_7_lasso_body.\n"
     ]
    }
   ],
   "source": [
    "#DIAGNOSTIC\n",
    "newRankings = newPolicy.predictAll(length_ranking)"
   ]
  },
  {
   "cell_type": "code",
   "execution_count": 19,
   "metadata": {},
   "outputs": [
    {
     "name": "stdout",
     "output_type": "stream",
     "text": [
      "DeterministicPolicy:predictAll [INFO] Generated all predictions for MQ2008_lasso_anchor_7 using MQ2008_lasso_anchor_7_lasso_anchor.\n"
     ]
    }
   ],
   "source": [
    "filterRankings = filterer.predictAll(length_ranking)"
   ]
  },
  {
   "cell_type": "code",
   "execution_count": 20,
   "metadata": {},
   "outputs": [],
   "source": [
    "perfectMatches = 0.0\n",
    "matchesPerPosition = np.zeros(length_ranking, dtype = np.float32)\n",
    "for i in range(numQueries):\n",
    "    validDocs = min(length_ranking, data.docsPerQuery[i])\n",
    "    positionMatches = ((filterRankings[i,0:validDocs] - newRankings[i,0:validDocs]) == 0).astype(np.float32)\n",
    "    matchesPerPosition[0:validDocs] += positionMatches\n",
    "    if positionMatches.sum(dtype = np.float32) >= validDocs:\n",
    "        perfectMatches += 1.0\n"
   ]
  },
  {
   "cell_type": "code",
   "execution_count": 21,
   "metadata": {},
   "outputs": [
    {
     "name": "stdout",
     "output_type": "stream",
     "text": [
      "Discrepancy between filterer and target: ExactMatches: 23.469, PerPositionMatches: [0.6479592  0.41836736 0.3622449 ]\n"
     ]
    }
   ],
   "source": [
    "perfectMatches = 100.0 * perfectMatches / numQueries\n",
    "matchesPerPosition = matchesPerPosition / numQueries\n",
    "print(\"Discrepancy between filterer and target: ExactMatches: %0.3f, PerPositionMatches:\" % perfectMatches,\n",
    "        matchesPerPosition, flush = True)"
   ]
  },
  {
   "cell_type": "code",
   "execution_count": 22,
   "metadata": {},
   "outputs": [],
   "source": [
    "expt.estimators"
   ]
  },
  {
   "cell_type": "code",
   "execution_count": 30,
   "metadata": {},
   "outputs": [
    {
     "name": "stdout",
     "output_type": "stream",
     "text": [
      "StochasticPolicy:init [INFO] Dataset: MQ2008_lasso_anchor_7 \n",
      "StochasticPolicy:init [INFO] Deterministic policy: MQ2008_lasso_anchor_7_lasso_anchor Temperature: 1.0\n",
      "StochasticPolicy:loadGammas [INFO] Loaded precomputed gammas from ../../Logs/precomp_notebook_MQ2008_lasso_anchor_7_stoc1.0_(MQ2008_lasso_anchor_7_lasso_anchor)_gamma3.pkl\n",
      "Logger:init [INFO] Policy: MQ2008_lasso_anchor_7_stoc1.0_(MQ2008_lasso_anchor_7_lasso_anchor) RankingSize: 3\n",
      "Experiment:setupLogger [INFO] Temperature: 1.000000\n",
      "Revenue:init [INFO] RankingSize: 3\n",
      "Experiment:setupMetric [INFO]  Revenue\n"
     ]
    }
   ],
   "source": [
    "output_dir = \"../../Logs/\"\n",
    "temperature = 1.0\n",
    "expt.setupLogger(output_dir+'precomp_notebook_', filterer, temperature)\n",
    "expt.setupMetric(metric_string = \"Revenue\", dataset = data)"
   ]
  },
  {
   "cell_type": "code",
   "execution_count": 25,
   "metadata": {},
   "outputs": [
    {
     "data": {
      "text/plain": [
       "(784, 7, 47)"
      ]
     },
     "execution_count": 25,
     "metadata": {},
     "output_type": "execute_result"
    }
   ],
   "source": [
    "data.features.shape"
   ]
  },
  {
   "cell_type": "code",
   "execution_count": 29,
   "metadata": {},
   "outputs": [
    {
     "data": {
      "text/plain": [
       "<memory at 0x1a1b7067e0>"
      ]
     },
     "execution_count": 29,
     "metadata": {},
     "output_type": "execute_result"
    }
   ],
   "source": [
    "newRankings.data"
   ]
  },
  {
   "cell_type": "code",
   "execution_count": null,
   "metadata": {},
   "outputs": [],
   "source": []
  }
 ],
 "metadata": {
  "kernelspec": {
   "display_name": "Python 3",
   "language": "python",
   "name": "python3"
  },
  "language_info": {
   "codemirror_mode": {
    "name": "ipython",
    "version": 3
   },
   "file_extension": ".py",
   "mimetype": "text/x-python",
   "name": "python",
   "nbconvert_exporter": "python",
   "pygments_lexer": "ipython3",
   "version": "3.6.10"
  }
 },
 "nbformat": 4,
 "nbformat_minor": 4
}
