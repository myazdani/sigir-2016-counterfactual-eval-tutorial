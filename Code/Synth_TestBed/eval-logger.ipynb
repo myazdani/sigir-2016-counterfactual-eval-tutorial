{
 "cells": [
  {
   "cell_type": "markdown",
   "metadata": {},
   "source": [
    "## eval logger\n",
    "\n",
    "Class that generates logs from an exploration policy"
   ]
  },
  {
   "cell_type": "code",
   "execution_count": 31,
   "metadata": {},
   "outputs": [],
   "source": [
    "import Datasets\n",
    "import Metrics\n",
    "import Policy   \n",
    "import numpy as np"
   ]
  },
  {
   "cell_type": "markdown",
   "metadata": {},
   "source": [
    "## load data"
   ]
  },
  {
   "cell_type": "code",
   "execution_count": 2,
   "metadata": {},
   "outputs": [
    {
     "name": "stdout",
     "output_type": "stream",
     "text": [
      "Datasets:loadNpz [INFO] Loaded ../../Data/MQ2008.npz  NumQueries, [Min,Max]NumDocs, totalDocs, MaxNumFeatures:  784 5 121 121 47\n"
     ]
    }
   ],
   "source": [
    "mq2008Data = Datasets.Datasets()\n",
    "mq2008Data.loadNpz('../../Data/MQ2008.npz', 'MQ2008')\n"
   ]
  },
  {
   "cell_type": "markdown",
   "metadata": {},
   "source": [
    "## train deterministic policy"
   ]
  },
  {
   "cell_type": "code",
   "execution_count": 3,
   "metadata": {},
   "outputs": [
    {
     "name": "stdout",
     "output_type": "stream",
     "text": [
      "DeterministicPolicy:init [INFO] Dataset: MQ2008\n",
      "DeterministicPolicy:train [INFO] lasso CVAlpha: 0.008000 Exponentiated Gains? False\n",
      "DeterministicPolicy:train [INFO] Created lasso predictor using dataset MQ2008. Features: range(0, 47)\n"
     ]
    }
   ],
   "source": [
    "detLogger = Policy.DeterministicPolicy(mq2008Data, 'lasso')\n",
    "detLogger.train(mq2008Data, range(47), False)"
   ]
  },
  {
   "cell_type": "markdown",
   "metadata": {},
   "source": [
    "## create filtered data set: \"new data\""
   ]
  },
  {
   "cell_type": "code",
   "execution_count": 4,
   "metadata": {},
   "outputs": [
    {
     "name": "stdout",
     "output_type": "stream",
     "text": [
      "DeterministicPolicy:createFilteredDataset [INFO] MQ2008_lasso_body_5 MaxNumDocs 5\n"
     ]
    }
   ],
   "source": [
    "#num_allowed_docs: (int) Creates a new dataset where the max docs per query is num_allowed_docs.\n",
    "#                        Uses policyParams to rank and filter the original document set.\n",
    "newData = detLogger.createFilteredDataset(num_allowed_docs= 5)"
   ]
  },
  {
   "cell_type": "code",
   "execution_count": 8,
   "metadata": {},
   "outputs": [
    {
     "data": {
      "text/plain": [
       "((784, 5, 47), (784, 121, 47))"
      ]
     },
     "execution_count": 8,
     "metadata": {},
     "output_type": "execute_result"
    }
   ],
   "source": [
    "newData.features.shape, mq2008Data.features.shape"
   ]
  },
  {
   "cell_type": "markdown",
   "metadata": {},
   "source": [
    "### uniform policy"
   ]
  },
  {
   "cell_type": "code",
   "execution_count": 9,
   "metadata": {},
   "outputs": [],
   "source": [
    "#All sub-classes of StochasticPolicy should supply a setupExploration method to set these members.\n",
    "#det_policy:    DeterministicPolicy or None. If None, a document distribution\n",
    "#                                           is sampled from a Dirichlet (uniform hyper-prior).\n",
    "#               If det_policy is specified, documents are scored to get unnormalized\n",
    "#                       probability distribution.\n",
    "#temperature:   (float)   Multiplier for document scores. For the Dirichlet case, this constant is added \n",
    "#                       and the distribution is renormalized."
   ]
  },
  {
   "cell_type": "code",
   "execution_count": 10,
   "metadata": {},
   "outputs": [
    {
     "name": "stdout",
     "output_type": "stream",
     "text": [
      "StochasticPolicy:init [INFO] Dataset: MQ2008_lasso_body_5 \n",
      "StochasticPolicy:init [INFO] Deterministic policy: MQ2008_lasso_body Temperature: 0\n"
     ]
    }
   ],
   "source": [
    "uniformPolicy = Policy.StochasticPolicy(newData, 0, detLogger)"
   ]
  },
  {
   "cell_type": "code",
   "execution_count": 11,
   "metadata": {},
   "outputs": [
    {
     "name": "stdout",
     "output_type": "stream",
     "text": [
      "[Parallel(n_jobs=-2)]: Using backend LokyBackend with 7 concurrent workers.\n",
      "[Parallel(n_jobs=-2)]: Done   1 tasks      | elapsed:    2.8s\n",
      "[Parallel(n_jobs=-2)]: Done   2 tasks      | elapsed:    2.8s\n",
      "[Parallel(n_jobs=-2)]: Done   3 tasks      | elapsed:    2.8s\n",
      "[Parallel(n_jobs=-2)]: Done   4 tasks      | elapsed:    2.8s\n",
      "[Parallel(n_jobs=-2)]: Done   5 tasks      | elapsed:    2.8s\n",
      "[Parallel(n_jobs=-2)]: Done   6 tasks      | elapsed:    2.8s\n",
      "[Parallel(n_jobs=-2)]: Done   7 tasks      | elapsed:    2.8s\n",
      "[Parallel(n_jobs=-2)]: Done   8 tasks      | elapsed:    2.8s\n",
      "[Parallel(n_jobs=-2)]: Done   9 tasks      | elapsed:    2.8s\n",
      "[Parallel(n_jobs=-2)]: Done  10 tasks      | elapsed:    3.0s\n",
      "[Parallel(n_jobs=-2)]: Done  11 tasks      | elapsed:    3.0s\n",
      "[Parallel(n_jobs=-2)]: Done  12 tasks      | elapsed:    3.1s\n",
      "[Parallel(n_jobs=-2)]: Done  13 tasks      | elapsed:    3.1s\n",
      "[Parallel(n_jobs=-2)]: Done  14 tasks      | elapsed:    3.1s\n",
      "[Parallel(n_jobs=-2)]: Done  15 tasks      | elapsed:    3.1s\n",
      "[Parallel(n_jobs=-2)]: Done  16 tasks      | elapsed:    3.1s\n",
      "[Parallel(n_jobs=-2)]: Done  17 tasks      | elapsed:    3.1s\n",
      "[Parallel(n_jobs=-2)]: Done  18 tasks      | elapsed:    3.1s\n",
      "[Parallel(n_jobs=-2)]: Done  19 tasks      | elapsed:    3.1s\n",
      "[Parallel(n_jobs=-2)]: Done  20 tasks      | elapsed:    3.2s\n",
      "[Parallel(n_jobs=-2)]: Done  21 tasks      | elapsed:    3.2s\n",
      "[Parallel(n_jobs=-2)]: Done  22 tasks      | elapsed:    3.2s\n",
      "[Parallel(n_jobs=-2)]: Done  23 tasks      | elapsed:    3.2s\n",
      "[Parallel(n_jobs=-2)]: Done  24 tasks      | elapsed:    3.2s\n",
      "[Parallel(n_jobs=-2)]: Done  25 tasks      | elapsed:    3.2s\n",
      "[Parallel(n_jobs=-2)]: Done  26 tasks      | elapsed:    3.2s\n",
      "[Parallel(n_jobs=-2)]: Done  27 tasks      | elapsed:    3.2s\n",
      "[Parallel(n_jobs=-2)]: Done  28 tasks      | elapsed:    3.2s\n",
      "[Parallel(n_jobs=-2)]: Done  29 tasks      | elapsed:    3.2s\n",
      "[Parallel(n_jobs=-2)]: Done  30 tasks      | elapsed:    3.2s\n",
      "[Parallel(n_jobs=-2)]: Done  31 tasks      | elapsed:    3.2s\n",
      "[Parallel(n_jobs=-2)]: Done  32 tasks      | elapsed:    3.2s\n",
      "[Parallel(n_jobs=-2)]: Batch computation too fast (0.1854s.) Setting batch_size=2.\n",
      "[Parallel(n_jobs=-2)]: Done  33 tasks      | elapsed:    3.2s\n",
      "[Parallel(n_jobs=-2)]: Done  34 tasks      | elapsed:    3.2s\n",
      "[Parallel(n_jobs=-2)]: Done  35 tasks      | elapsed:    3.2s\n",
      "[Parallel(n_jobs=-2)]: Done  36 tasks      | elapsed:    3.2s\n",
      "[Parallel(n_jobs=-2)]: Done  37 tasks      | elapsed:    3.3s\n",
      "[Parallel(n_jobs=-2)]: Done  38 tasks      | elapsed:    3.3s\n",
      "[Parallel(n_jobs=-2)]: Done  39 tasks      | elapsed:    3.3s\n",
      "[Parallel(n_jobs=-2)]: Done  40 tasks      | elapsed:    3.3s\n",
      "[Parallel(n_jobs=-2)]: Done  41 tasks      | elapsed:    3.3s\n",
      "[Parallel(n_jobs=-2)]: Done  42 tasks      | elapsed:    3.3s\n",
      "[Parallel(n_jobs=-2)]: Done  43 tasks      | elapsed:    3.3s\n",
      "[Parallel(n_jobs=-2)]: Done  44 tasks      | elapsed:    3.3s\n",
      "[Parallel(n_jobs=-2)]: Done  45 tasks      | elapsed:    3.3s\n",
      "[Parallel(n_jobs=-2)]: Done  46 tasks      | elapsed:    3.3s\n",
      "[Parallel(n_jobs=-2)]: Done  47 tasks      | elapsed:    3.3s\n",
      "[Parallel(n_jobs=-2)]: Done  48 tasks      | elapsed:    3.3s\n",
      "[Parallel(n_jobs=-2)]: Done  49 tasks      | elapsed:    3.3s\n",
      "[Parallel(n_jobs=-2)]: Done  51 tasks      | elapsed:    3.3s\n",
      "[Parallel(n_jobs=-2)]: Batch computation too fast (0.0812s.) Setting batch_size=4.\n",
      "[Parallel(n_jobs=-2)]: Done  53 tasks      | elapsed:    3.3s\n",
      "[Parallel(n_jobs=-2)]: Done  55 tasks      | elapsed:    3.3s\n",
      "[Parallel(n_jobs=-2)]: Done  57 tasks      | elapsed:    3.3s\n",
      "[Parallel(n_jobs=-2)]: Done  59 tasks      | elapsed:    3.4s\n",
      "[Parallel(n_jobs=-2)]: Done  61 tasks      | elapsed:    3.4s\n",
      "[Parallel(n_jobs=-2)]: Done  63 tasks      | elapsed:    3.4s\n",
      "[Parallel(n_jobs=-2)]: Done  65 tasks      | elapsed:    3.4s\n",
      "[Parallel(n_jobs=-2)]: Done  67 tasks      | elapsed:    3.4s\n",
      "[Parallel(n_jobs=-2)]: Done  69 tasks      | elapsed:    3.4s\n",
      "[Parallel(n_jobs=-2)]: Done  71 tasks      | elapsed:    3.4s\n",
      "[Parallel(n_jobs=-2)]: Done  73 tasks      | elapsed:    3.4s\n",
      "[Parallel(n_jobs=-2)]: Done  75 tasks      | elapsed:    3.4s\n",
      "[Parallel(n_jobs=-2)]: Done  77 tasks      | elapsed:    3.5s\n",
      "[Parallel(n_jobs=-2)]: Done  81 tasks      | elapsed:    3.5s\n",
      "[Parallel(n_jobs=-2)]: Batch computation too fast (0.1521s.) Setting batch_size=8.\n",
      "[Parallel(n_jobs=-2)]: Done  85 tasks      | elapsed:    3.5s\n",
      "[Parallel(n_jobs=-2)]: Done  89 tasks      | elapsed:    3.5s\n",
      "[Parallel(n_jobs=-2)]: Done  93 tasks      | elapsed:    3.5s\n",
      "[Parallel(n_jobs=-2)]: Done  97 tasks      | elapsed:    3.5s\n",
      "[Parallel(n_jobs=-2)]: Done 101 tasks      | elapsed:    3.5s\n",
      "[Parallel(n_jobs=-2)]: Done 105 tasks      | elapsed:    3.5s\n",
      "[Parallel(n_jobs=-2)]: Done 109 tasks      | elapsed:    3.6s\n",
      "[Parallel(n_jobs=-2)]: Done 113 tasks      | elapsed:    3.6s\n",
      "[Parallel(n_jobs=-2)]: Done 117 tasks      | elapsed:    3.6s\n",
      "[Parallel(n_jobs=-2)]: Done 121 tasks      | elapsed:    3.6s\n",
      "[Parallel(n_jobs=-2)]: Done 125 tasks      | elapsed:    3.6s\n",
      "[Parallel(n_jobs=-2)]: Done 129 tasks      | elapsed:    3.6s\n",
      "[Parallel(n_jobs=-2)]: Done 133 tasks      | elapsed:    3.6s\n",
      "[Parallel(n_jobs=-2)]: Done 141 tasks      | elapsed:    3.6s\n",
      "[Parallel(n_jobs=-2)]: Batch computation too fast (0.1763s.) Setting batch_size=16.\n",
      "[Parallel(n_jobs=-2)]: Done 149 tasks      | elapsed:    3.7s\n",
      "[Parallel(n_jobs=-2)]: Done 157 tasks      | elapsed:    3.7s\n",
      "[Parallel(n_jobs=-2)]: Done 165 tasks      | elapsed:    3.7s\n",
      "[Parallel(n_jobs=-2)]: Done 173 tasks      | elapsed:    3.7s\n",
      "[Parallel(n_jobs=-2)]: Done 181 tasks      | elapsed:    3.7s\n",
      "[Parallel(n_jobs=-2)]: Done 189 tasks      | elapsed:    3.7s\n",
      "[Parallel(n_jobs=-2)]: Done 197 tasks      | elapsed:    3.7s\n",
      "[Parallel(n_jobs=-2)]: Done 205 tasks      | elapsed:    3.7s\n",
      "[Parallel(n_jobs=-2)]: Done 213 tasks      | elapsed:    3.8s\n",
      "[Parallel(n_jobs=-2)]: Done 221 tasks      | elapsed:    3.8s\n",
      "[Parallel(n_jobs=-2)]: Done 229 tasks      | elapsed:    3.8s\n",
      "[Parallel(n_jobs=-2)]: Done 237 tasks      | elapsed:    3.8s\n",
      "[Parallel(n_jobs=-2)]: Done 245 tasks      | elapsed:    3.8s\n",
      "[Parallel(n_jobs=-2)]: Done 261 tasks      | elapsed:    3.8s\n",
      "[Parallel(n_jobs=-2)]: Batch computation too fast (0.1696s.) Setting batch_size=32.\n",
      "[Parallel(n_jobs=-2)]: Done 277 tasks      | elapsed:    3.8s\n",
      "[Parallel(n_jobs=-2)]: Done 293 tasks      | elapsed:    3.8s\n",
      "[Parallel(n_jobs=-2)]: Done 309 tasks      | elapsed:    3.8s\n",
      "[Parallel(n_jobs=-2)]: Done 325 tasks      | elapsed:    3.9s\n",
      "[Parallel(n_jobs=-2)]: Done 341 tasks      | elapsed:    3.9s\n",
      "[Parallel(n_jobs=-2)]: Done 357 tasks      | elapsed:    3.9s\n",
      "[Parallel(n_jobs=-2)]: Done 373 tasks      | elapsed:    3.9s\n",
      "[Parallel(n_jobs=-2)]: Done 389 tasks      | elapsed:    3.9s\n",
      "[Parallel(n_jobs=-2)]: Done 405 tasks      | elapsed:    3.9s\n",
      "[Parallel(n_jobs=-2)]: Done 421 tasks      | elapsed:    3.9s\n",
      "[Parallel(n_jobs=-2)]: Done 437 tasks      | elapsed:    3.9s\n",
      "[Parallel(n_jobs=-2)]: Done 453 tasks      | elapsed:    3.9s\n",
      "[Parallel(n_jobs=-2)]: Done 469 tasks      | elapsed:    4.0s\n",
      "[Parallel(n_jobs=-2)]: Done 501 tasks      | elapsed:    4.0s\n",
      "[Parallel(n_jobs=-2)]: Batch computation too fast (0.1560s.) Setting batch_size=64.\n",
      "[Parallel(n_jobs=-2)]: Done 533 tasks      | elapsed:    4.0s\n",
      "[Parallel(n_jobs=-2)]: Done 565 tasks      | elapsed:    4.0s\n",
      "[Parallel(n_jobs=-2)]: Done 597 tasks      | elapsed:    4.0s\n",
      "[Parallel(n_jobs=-2)]: Done 629 tasks      | elapsed:    4.0s\n",
      "[Parallel(n_jobs=-2)]: Done 661 tasks      | elapsed:    4.0s\n",
      "[Parallel(n_jobs=-2)]: Done 662 tasks      | elapsed:    4.0s\n",
      "[Parallel(n_jobs=-2)]: Done 663 tasks      | elapsed:    4.0s\n",
      "[Parallel(n_jobs=-2)]: Done 695 tasks      | elapsed:    4.0s\n",
      "[Parallel(n_jobs=-2)]: Done 696 tasks      | elapsed:    4.1s\n",
      "[Parallel(n_jobs=-2)]: Done 697 tasks      | elapsed:    4.1s\n",
      "[Parallel(n_jobs=-2)]: Done 698 tasks      | elapsed:    4.1s\n",
      "[Parallel(n_jobs=-2)]: Done 699 tasks      | elapsed:    4.1s\n",
      "[Parallel(n_jobs=-2)]: Done 700 tasks      | elapsed:    4.1s\n",
      "[Parallel(n_jobs=-2)]: Done 701 tasks      | elapsed:    4.1s\n",
      "[Parallel(n_jobs=-2)]: Done 702 tasks      | elapsed:    4.1s\n",
      "[Parallel(n_jobs=-2)]: Done 703 tasks      | elapsed:    4.1s\n",
      "[Parallel(n_jobs=-2)]: Done 704 tasks      | elapsed:    4.1s\n",
      "[Parallel(n_jobs=-2)]: Done 705 tasks      | elapsed:    4.1s\n",
      "[Parallel(n_jobs=-2)]: Done 706 tasks      | elapsed:    4.2s\n",
      "[Parallel(n_jobs=-2)]: Done 707 tasks      | elapsed:    4.2s\n",
      "[Parallel(n_jobs=-2)]: Done 708 tasks      | elapsed:    4.2s\n",
      "[Parallel(n_jobs=-2)]: Done 709 tasks      | elapsed:    4.2s\n",
      "[Parallel(n_jobs=-2)]: Done 710 tasks      | elapsed:    4.2s\n",
      "[Parallel(n_jobs=-2)]: Done 711 tasks      | elapsed:    4.2s\n",
      "[Parallel(n_jobs=-2)]: Done 712 tasks      | elapsed:    4.2s\n",
      "[Parallel(n_jobs=-2)]: Done 713 tasks      | elapsed:    4.2s\n",
      "[Parallel(n_jobs=-2)]: Done 714 tasks      | elapsed:    4.2s\n",
      "[Parallel(n_jobs=-2)]: Done 715 tasks      | elapsed:    4.3s\n",
      "[Parallel(n_jobs=-2)]: Done 716 tasks      | elapsed:    4.3s\n",
      "[Parallel(n_jobs=-2)]: Done 717 tasks      | elapsed:    4.3s\n",
      "[Parallel(n_jobs=-2)]: Done 718 tasks      | elapsed:    4.3s\n",
      "[Parallel(n_jobs=-2)]: Done 719 tasks      | elapsed:    4.3s\n",
      "[Parallel(n_jobs=-2)]: Done 720 tasks      | elapsed:    4.3s\n",
      "[Parallel(n_jobs=-2)]: Done 721 tasks      | elapsed:    4.3s\n",
      "[Parallel(n_jobs=-2)]: Done 722 tasks      | elapsed:    4.3s\n",
      "[Parallel(n_jobs=-2)]: Done 723 tasks      | elapsed:    4.3s\n",
      "[Parallel(n_jobs=-2)]: Done 724 tasks      | elapsed:    4.3s\n",
      "[Parallel(n_jobs=-2)]: Done 725 tasks      | elapsed:    4.4s\n",
      "[Parallel(n_jobs=-2)]: Done 726 tasks      | elapsed:    4.4s\n",
      "[Parallel(n_jobs=-2)]: Done 727 tasks      | elapsed:    4.4s\n",
      "[Parallel(n_jobs=-2)]: Done 728 tasks      | elapsed:    4.4s\n",
      "[Parallel(n_jobs=-2)]: Done 729 tasks      | elapsed:    4.4s\n",
      "[Parallel(n_jobs=-2)]: Done 730 tasks      | elapsed:    4.4s\n",
      "[Parallel(n_jobs=-2)]: Done 731 tasks      | elapsed:    4.4s\n",
      "[Parallel(n_jobs=-2)]: Done 732 tasks      | elapsed:    4.4s\n",
      "[Parallel(n_jobs=-2)]: Done 733 tasks      | elapsed:    4.4s\n",
      "[Parallel(n_jobs=-2)]: Done 734 tasks      | elapsed:    4.5s\n",
      "[Parallel(n_jobs=-2)]: Done 735 tasks      | elapsed:    4.5s\n",
      "[Parallel(n_jobs=-2)]: Done 736 tasks      | elapsed:    4.5s\n",
      "[Parallel(n_jobs=-2)]: Done 737 tasks      | elapsed:    4.5s\n",
      "[Parallel(n_jobs=-2)]: Done 738 tasks      | elapsed:    4.5s\n",
      "[Parallel(n_jobs=-2)]: Done 739 tasks      | elapsed:    4.5s\n",
      "[Parallel(n_jobs=-2)]: Done 740 tasks      | elapsed:    4.5s\n",
      "[Parallel(n_jobs=-2)]: Done 741 tasks      | elapsed:    4.5s\n",
      "[Parallel(n_jobs=-2)]: Done 742 tasks      | elapsed:    4.5s\n",
      "[Parallel(n_jobs=-2)]: Done 743 tasks      | elapsed:    4.6s\n",
      "[Parallel(n_jobs=-2)]: Done 744 tasks      | elapsed:    4.6s\n",
      "[Parallel(n_jobs=-2)]: Done 745 tasks      | elapsed:    4.6s\n",
      "[Parallel(n_jobs=-2)]: Done 746 tasks      | elapsed:    4.6s\n",
      "[Parallel(n_jobs=-2)]: Done 747 tasks      | elapsed:    4.6s\n",
      "[Parallel(n_jobs=-2)]: Done 748 tasks      | elapsed:    4.6s\n",
      "[Parallel(n_jobs=-2)]: Done 749 tasks      | elapsed:    4.6s\n",
      "[Parallel(n_jobs=-2)]: Done 750 tasks      | elapsed:    4.6s\n",
      "[Parallel(n_jobs=-2)]: Done 751 tasks      | elapsed:    4.6s\n",
      "[Parallel(n_jobs=-2)]: Done 752 tasks      | elapsed:    4.6s\n",
      "[Parallel(n_jobs=-2)]: Done 753 tasks      | elapsed:    4.7s\n",
      "[Parallel(n_jobs=-2)]: Done 754 tasks      | elapsed:    4.7s\n",
      "[Parallel(n_jobs=-2)]: Done 755 tasks      | elapsed:    4.7s\n",
      "[Parallel(n_jobs=-2)]: Done 756 tasks      | elapsed:    4.7s\n",
      "[Parallel(n_jobs=-2)]: Done 757 tasks      | elapsed:    4.7s\n",
      "[Parallel(n_jobs=-2)]: Done 758 tasks      | elapsed:    4.7s\n",
      "[Parallel(n_jobs=-2)]: Done 759 tasks      | elapsed:    4.7s\n",
      "[Parallel(n_jobs=-2)]: Done 760 tasks      | elapsed:    4.7s\n",
      "[Parallel(n_jobs=-2)]: Done 761 tasks      | elapsed:    4.7s\n",
      "[Parallel(n_jobs=-2)]: Done 762 tasks      | elapsed:    4.8s\n",
      "[Parallel(n_jobs=-2)]: Done 763 tasks      | elapsed:    4.8s\n",
      "[Parallel(n_jobs=-2)]: Done 764 tasks      | elapsed:    4.8s\n",
      "[Parallel(n_jobs=-2)]: Done 765 tasks      | elapsed:    4.8s\n",
      "[Parallel(n_jobs=-2)]: Done 766 tasks      | elapsed:    4.8s\n",
      "[Parallel(n_jobs=-2)]: Done 767 tasks      | elapsed:    4.8s\n",
      "[Parallel(n_jobs=-2)]: Done 768 tasks      | elapsed:    4.8s\n",
      "[Parallel(n_jobs=-2)]: Done 769 tasks      | elapsed:    4.8s\n",
      "[Parallel(n_jobs=-2)]: Done 770 tasks      | elapsed:    4.8s\n",
      "[Parallel(n_jobs=-2)]: Done 771 tasks      | elapsed:    4.9s\n",
      "[Parallel(n_jobs=-2)]: Done 784 out of 784 | elapsed:    5.0s finished\n",
      "\n",
      "StochasticPolicy:setupExploration [INFO] RankingSize: 8\n"
     ]
    }
   ],
   "source": [
    "# ranking_size: (int) Size of rankings to be predicted (used to define gamma).\n",
    "uniformPolicy.setupExploration(ranking_size = 8)"
   ]
  },
  {
   "cell_type": "code",
   "execution_count": 21,
   "metadata": {},
   "outputs": [],
   "source": [
    "from Logger import Logger"
   ]
  },
  {
   "cell_type": "code",
   "execution_count": 22,
   "metadata": {},
   "outputs": [
    {
     "name": "stdout",
     "output_type": "stream",
     "text": [
      "Logger:init [INFO] Policy: MQ2008_lasso_body_5_stoc0_(MQ2008_lasso_body) RankingSize: 8\n"
     ]
    }
   ],
   "source": [
    "logger = Logger(uniformPolicy, ranking_size=8)"
   ]
  },
  {
   "cell_type": "code",
   "execution_count": 24,
   "metadata": {},
   "outputs": [
    {
     "name": "stdout",
     "output_type": "stream",
     "text": [
      "Revenue:init [INFO] RankingSize: 8\n"
     ]
    }
   ],
   "source": [
    "rankingSize = 8\n",
    "revenue = Metrics.Revenue(newData, rankingSize)\n"
   ]
  },
  {
   "cell_type": "code",
   "execution_count": 28,
   "metadata": {},
   "outputs": [
    {
     "name": "stdout",
     "output_type": "stream",
     "text": [
      "One sample: Query, Ranking, MetricValue\n",
      "(352, array([ 2,  1,  3,  0,  4, -1, -1, -1], dtype=int32), 887.7917207679359)\n"
     ]
    }
   ],
   "source": [
    "print(\"One sample: Query, Ranking, MetricValue\")\n",
    "print(logger.createOneSample(revenue), flush = True)\n"
   ]
  },
  {
   "cell_type": "code",
   "execution_count": 35,
   "metadata": {},
   "outputs": [
    {
     "name": "stdout",
     "output_type": "stream",
     "text": [
      ".\n",
      "Logger:createLog [INFO] LogSize: 10 Metric: Revenue\n"
     ]
    }
   ],
   "source": [
    "queries, rankings, metricValues = logger.createLog(10, revenue)"
   ]
  },
  {
   "cell_type": "code",
   "execution_count": 36,
   "metadata": {},
   "outputs": [],
   "source": [
    "histogram = np.bincount(queries)"
   ]
  },
  {
   "cell_type": "code",
   "execution_count": 37,
   "metadata": {},
   "outputs": [
    {
     "data": {
      "text/plain": [
       "array([0, 0, 0, 0, 0, 0, 0, 0, 0, 0, 0, 0, 1, 0, 0, 0, 0, 0, 1, 0, 0, 0,\n",
       "       0, 0, 0, 0, 0, 0, 0, 0, 0, 0, 0, 0, 0, 0, 0, 0, 0, 0, 0, 0, 0, 0,\n",
       "       0, 0, 1, 0, 0, 0, 0, 0, 0, 0, 0, 0, 0, 0, 0, 0, 0, 0, 0, 0, 0, 0,\n",
       "       0, 0, 0, 0, 0, 0, 0, 0, 0, 0, 0, 0, 0, 0, 0, 0, 0, 0, 0, 0, 0, 0,\n",
       "       0, 0, 0, 0, 0, 0, 0, 0, 0, 0, 0, 0, 0, 0, 0, 0, 0, 0, 0, 0, 0, 0,\n",
       "       0, 0, 0, 0, 0, 0, 0, 0, 0, 0, 0, 0, 0, 0, 0, 0, 0, 0, 0, 0, 0, 0,\n",
       "       0, 0, 0, 0, 0, 0, 0, 0, 0, 0, 0, 0, 0, 0, 0, 0, 0, 0, 0, 0, 0, 0,\n",
       "       0, 0, 0, 0, 0, 0, 0, 0, 0, 0, 0, 0, 0, 0, 0, 0, 0, 0, 0, 0, 0, 0,\n",
       "       0, 0, 0, 0, 0, 0, 0, 0, 0, 0, 0, 0, 0, 0, 0, 0, 0, 0, 0, 0, 0, 0,\n",
       "       0, 0, 0, 0, 0, 0, 0, 0, 0, 0, 0, 0, 0, 0, 0, 0, 0, 0, 0, 0, 0, 0,\n",
       "       0, 0, 0, 0, 0, 0, 0, 0, 0, 0, 0, 0, 0, 0, 0, 0, 0, 0, 0, 0, 0, 0,\n",
       "       0, 0, 0, 0, 0, 0, 0, 0, 0, 0, 0, 0, 0, 0, 0, 0, 0, 0, 0, 0, 0, 0,\n",
       "       0, 0, 0, 0, 0, 0, 0, 0, 0, 0, 0, 0, 0, 0, 0, 0, 0, 0, 0, 0, 0, 0,\n",
       "       0, 0, 0, 0, 0, 0, 0, 0, 0, 0, 0, 0, 0, 0, 0, 0, 0, 0, 0, 0, 0, 0,\n",
       "       0, 0, 0, 0, 0, 0, 0, 0, 0, 0, 0, 0, 0, 0, 0, 0, 0, 0, 0, 0, 0, 0,\n",
       "       0, 0, 0, 0, 0, 0, 0, 0, 0, 0, 0, 0, 0, 0, 0, 0, 0, 0, 0, 0, 0, 0,\n",
       "       0, 0, 0, 0, 0, 0, 0, 0, 0, 0, 0, 0, 0, 0, 0, 0, 0, 1, 0, 0, 0, 0,\n",
       "       0, 1, 0, 0, 0, 0, 0, 0, 0, 0, 0, 0, 0, 0, 0, 0, 0, 0, 0, 0, 0, 0,\n",
       "       0, 0, 0, 0, 0, 0, 0, 0, 0, 0, 0, 0, 0, 0, 0, 0, 0, 0, 0, 0, 0, 0,\n",
       "       0, 0, 0, 0, 0, 0, 0, 0, 0, 0, 0, 0, 0, 0, 0, 0, 0, 0, 0, 0, 0, 0,\n",
       "       0, 0, 0, 0, 0, 0, 0, 0, 0, 0, 0, 0, 0, 0, 0, 0, 0, 0, 0, 0, 0, 0,\n",
       "       2, 0, 0, 0, 0, 0, 0, 0, 0, 0, 0, 0, 0, 0, 0, 0, 0, 0, 0, 0, 0, 0,\n",
       "       0, 0, 0, 1, 0, 0, 0, 0, 0, 0, 0, 0, 0, 0, 0, 0, 0, 0, 0, 0, 0, 0,\n",
       "       0, 0, 0, 0, 0, 0, 0, 0, 0, 0, 0, 0, 0, 0, 0, 0, 0, 0, 0, 0, 0, 0,\n",
       "       0, 0, 0, 0, 0, 0, 0, 0, 0, 0, 0, 0, 0, 0, 0, 0, 0, 0, 0, 0, 0, 0,\n",
       "       0, 0, 0, 0, 0, 0, 0, 0, 0, 0, 0, 0, 0, 0, 0, 0, 0, 0, 0, 0, 0, 0,\n",
       "       0, 0, 0, 0, 0, 0, 0, 0, 0, 0, 0, 0, 0, 0, 0, 0, 0, 0, 0, 0, 0, 0,\n",
       "       0, 0, 0, 0, 0, 0, 0, 0, 0, 0, 0, 0, 0, 0, 0, 0, 0, 0, 0, 0, 0, 0,\n",
       "       0, 0, 0, 1, 0, 0, 0, 0, 0, 0, 0, 0, 0, 0, 0, 0, 0, 0, 0, 0, 0, 0,\n",
       "       0, 0, 0, 0, 0, 0, 0, 0, 0, 0, 0, 0, 0, 0, 0, 0, 0, 0, 0, 0, 0, 0,\n",
       "       0, 0, 0, 0, 0, 0, 0, 0, 0, 0, 0, 0, 0, 0, 0, 0, 0, 0, 0, 0, 0, 0,\n",
       "       1])"
      ]
     },
     "execution_count": 37,
     "metadata": {},
     "output_type": "execute_result"
    }
   ],
   "source": [
    "histogram"
   ]
  },
  {
   "cell_type": "code",
   "execution_count": 38,
   "metadata": {},
   "outputs": [
    {
     "name": "stdout",
     "output_type": "stream",
     "text": [
      "Histogram of seen queries [0 0 0 0 0 0 0 0 0 0 0 0 1 0 0 0 0 0 1 0 0 0 0 0 0 0 0 0 0 0 0 0 0 0 0 0 0\n",
      " 0 0 0 0 0 0 0 0 0 1 0 0 0 0 0 0 0 0 0 0 0 0 0 0 0 0 0 0 0 0 0 0 0 0 0 0 0\n",
      " 0 0 0 0 0 0 0 0 0 0 0 0 0 0 0 0 0 0 0 0 0 0 0 0 0 0 0 0 0 0 0 0 0 0 0 0 0\n",
      " 0 0 0 0 0 0 0 0 0 0 0 0 0 0 0 0 0 0 0 0 0 0 0 0 0 0 0 0 0 0 0 0 0 0 0 0 0\n",
      " 0 0 0 0 0 0 0 0 0 0 0 0 0 0 0 0 0 0 0 0 0 0 0 0 0 0 0 0 0 0 0 0 0 0 0 0 0\n",
      " 0 0 0 0 0 0 0 0 0 0 0 0 0 0 0 0 0 0 0 0 0 0 0 0 0 0 0 0 0 0 0 0 0 0 0 0 0\n",
      " 0 0 0 0 0 0 0 0 0 0 0 0 0 0 0 0 0 0 0 0 0 0 0 0 0 0 0 0 0 0 0 0 0 0 0 0 0\n",
      " 0 0 0 0 0 0 0 0 0 0 0 0 0 0 0 0 0 0 0 0 0 0 0 0 0 0 0 0 0 0 0 0 0 0 0 0 0\n",
      " 0 0 0 0 0 0 0 0 0 0 0 0 0 0 0 0 0 0 0 0 0 0 0 0 0 0 0 0 0 0 0 0 0 0 0 0 0\n",
      " 0 0 0 0 0 0 0 0 0 0 0 0 0 0 0 0 0 0 0 0 0 0 0 0 0 0 0 0 0 0 0 0 0 0 0 0 1\n",
      " 0 0 0 0 0 1 0 0 0 0 0 0 0 0 0 0 0 0 0 0 0 0 0 0 0 0 0 0 0 0 0 0 0 0 0 0 0\n",
      " 0 0 0 0 0 0 0 0 0 0 0 0 0 0 0 0 0 0 0 0 0 0 0 0 0 0 0 0 0 0 0 0 0 0 0 0 0\n",
      " 0 0 0 0 0 0 0 0 0 0 0 0 0 0 0 0 0 0 2 0 0 0 0 0 0 0 0 0 0 0 0 0 0 0 0 0 0\n",
      " 0 0 0 0 0 0 1 0 0 0 0 0 0 0 0 0 0 0 0 0 0 0 0 0 0 0 0 0 0 0 0 0 0 0 0 0 0\n",
      " 0 0 0 0 0 0 0 0 0 0 0 0 0 0 0 0 0 0 0 0 0 0 0 0 0 0 0 0 0 0 0 0 0 0 0 0 0\n",
      " 0 0 0 0 0 0 0 0 0 0 0 0 0 0 0 0 0 0 0 0 0 0 0 0 0 0 0 0 0 0 0 0 0 0 0 0 0\n",
      " 0 0 0 0 0 0 0 0 0 0 0 0 0 0 0 0 0 0 0 0 0 0 0 0 0 0 0 1 0 0 0 0 0 0 0 0 0\n",
      " 0 0 0 0 0 0 0 0 0 0 0 0 0 0 0 0 0 0 0 0 0 0 0 0 0 0 0 0 0 0 0 0 0 0 0 0 0\n",
      " 0 0 0 0 0 0 0 0 0 0 0 0 0 0 0 0 1]\n",
      "Num unique queries 9\n",
      "Revenue 320.18309555053710938\n"
     ]
    }
   ],
   "source": [
    "print(\"Histogram of seen queries\", histogram, flush = True)\n",
    "print(\"Num unique queries\", np.sum(histogram > 0), flush = True)\n",
    "print (revenue.name, metricValues.mean(dtype = np.longdouble), flush = True)"
   ]
  },
  {
   "cell_type": "code",
   "execution_count": null,
   "metadata": {},
   "outputs": [],
   "source": []
  }
 ],
 "metadata": {
  "kernelspec": {
   "display_name": "Python 3",
   "language": "python",
   "name": "python3"
  },
  "language_info": {
   "codemirror_mode": {
    "name": "ipython",
    "version": 3
   },
   "file_extension": ".py",
   "mimetype": "text/x-python",
   "name": "python",
   "nbconvert_exporter": "python",
   "pygments_lexer": "ipython3",
   "version": "3.6.10"
  }
 },
 "nbformat": 4,
 "nbformat_minor": 4
}
